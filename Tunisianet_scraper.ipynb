{
  "nbformat": 4,
  "nbformat_minor": 0,
  "metadata": {
    "colab": {
      "provenance": []
    },
    "kernelspec": {
      "name": "python3",
      "display_name": "Python 3"
    },
    "language_info": {
      "name": "python"
    }
  },
  "cells": [
    {
      "cell_type": "code",
      "execution_count": 19,
      "metadata": {
        "id": "mIyCaJivOMWj"
      },
      "outputs": [],
      "source": [
        "import pandas as pd\n",
        "import requests as rq\n",
        "from bs4 import BeautifulSoup\n",
        "import requests\n",
        "import csv"
      ]
    },
    {
      "cell_type": "code",
      "source": [
        "\n",
        "def scrape_tunisianet_gaming_laptops():\n",
        "    url = \"https://www.tunisianet.com.tn/681-pc-portable-gamer\"\n",
        "    headers = {\n",
        "        'User-Agent': 'Mozilla/5.0 (Windows NT 10.0; Win64; x64) AppleWebKit/537.36 (KHTML, like Gecko) Chrome/91.0.4472.124 Safari/537.36'\n",
        "    }\n",
        "    response = requests.get(url, headers=headers)\n",
        "    print(f\"Status code: {response.status_code}\")\n",
        "    print(f\"Content length: {len(response.text)}\")\n",
        "\n",
        "    soup = BeautifulSoup(response.content, 'html.parser')\n",
        "\n",
        "    product_items = soup.find_all('div', class_='item-product')\n",
        "    print(f\"Found {len(product_items)} product containers\")\n",
        "\n",
        "    laptops = []\n",
        "\n",
        "    for item in product_items:\n",
        "        name_element = item.find('h2', class_='product-title')\n",
        "        price_element = item.find('span', class_='price')\n",
        "\n",
        "        if name_element and price_element:\n",
        "            name = name_element.text.strip()\n",
        "            price = price_element.text.strip()\n",
        "\n",
        "            laptops.append({\n",
        "                'name': name,\n",
        "                'price': price,\n",
        "            })\n",
        "        else:\n",
        "            print(\"Couldn't find name or price for an item\")\n",
        "\n",
        "    return laptops\n",
        "\n",
        "laptops = scrape_tunisianet_gaming_laptops()\n",
        "\n",
        "if laptops:\n",
        "    with open('tunisianet_gaming_laptops.csv', 'w', newline='', encoding='utf-8') as csvfile:\n",
        "        fieldnames = ['name', 'price']\n",
        "        writer = csv.DictWriter(csvfile, fieldnames=fieldnames)\n",
        "        writer.writeheader()\n",
        "        for laptop in laptops:\n",
        "            writer.writerow(laptop)\n",
        "\n",
        "print(f\"{'Laptop Name':<60} | {'Price':<10}\")\n",
        "print(\"=\" * 75)\n",
        "for laptop in laptops:\n",
        "    print(f\"{laptop['name']:<60} | {laptop['price']:<10}\")\n",
        "print(f\"\\nScraped {len(laptops)} gaming laptops and saved to CSV.\")\n"
      ],
      "metadata": {
        "colab": {
          "base_uri": "https://localhost:8080/"
        },
        "id": "Yuv5r_LVT3nZ",
        "outputId": "780ae04f-fd24-4cc9-fe85-f9ab0483d388"
      },
      "execution_count": 20,
      "outputs": [
        {
          "output_type": "stream",
          "name": "stdout",
          "text": [
            "Status code: 200\n",
            "Content length: 1192408\n",
            "Found 24 product containers\n",
            "Laptop Name                                                  | Price     \n",
            "===========================================================================\n",
            "PC Portable Lenovo IdeaPad Gaming 3 / Ryzen 5 5500H / RTX 2050 4G / 144Hz  / 16 Go / 512 Go SSD / Noir | 1 969,000 DT\n",
            "PC Portable Lenovo IdeaPad Gaming 3 / Ryzen 5 5500H / RTX 2050 4G / 144Hz  / 16 Go / 512 Go SSD / Windows 11 Pro / Noir | 2 029,000 DT\n",
            "PC Portable Lenovo IdeaPad Gaming 3 / Ryzen 5 5500H / RTX 2050 4G / 144Hz / 24 Go / 512 Go SSD / Noir | 2 029,000 DT\n",
            "PC PORTABLE LENOVO IDEAPAD GAMING 3 15ACH6 AMD RYZEN 5 / 16GO / RTX 2050 /  NOIR | 2 039,000 DT\n",
            "PC Portable Lenovo IdeaPad Gaming 3 / Ryzen 5 5500H / RTX 2050 4G / 144Hz / 32 Go / 512 Go SSD / Noir | 2 069,000 DT\n",
            "PC Portable MSI Thin GF63 12UCX 682XFR / i5-12450H / RTX 2050 4G / 8 Go | 2 079,000 DT\n",
            "PC Portable Lenovo IdeaPad Gaming 3 / Ryzen 5 5500H / RTX 2050 4G / 144Hz / 24 Go / 512 Go SSD / Windows 11 Pro / Noir | 2 089,000 DT\n",
            "PC PORTABLE LENOVO IDEAPAD GAMING 3 15ACH6 AMD RYZEN 5 / 24GO / RTX 2050 /  NOIR | 2 095,000 DT\n",
            "PC Portable MSI Thin GF63 12UCX 682XFR / i5-12450H / RTX 2050 4G / 12 Go | 2 099,000 DT\n",
            "PC Portable ASUS TUF Gaming A15 FA506NF / Ryzen 5 7535HS / RTX 2050 4G / 8 Go / Windows 11 / Noir | 2 099,000 DT\n",
            "PC Portable Lenovo IdeaPad Gaming 3 / Ryzen 5 5500H / RTX 2050 4G / 144Hz / 32 Go / 512 Go SSD / Windows 11 Pro / Noir | 2 129,000 DT\n",
            "PC Portable MSI Thin GF63 12UCX / i5-12450H / RTX 2050 4G / 8 Go  + Sac à dos G34 Offert | 2 129,000 DT\n",
            "PC Portable MSI Thin GF63 12UCX 682XFR / i5-12450H / RTX 2050 4G / 16 Go | 2 139,000 DT\n",
            "PC Portable MSI Thin GF63 12UCX 682XFR / i5-12450H / RTX 2050 4G / 8 Go / Windows 11 Pro | 2 145,000 DT\n",
            "PC Portable MSI Thin GF63 12UCX-682XFR / i5-12450H / RTX 2050 4G / 12 Go  + Sac à dos G34 Offert | 2 149,000 DT\n",
            "PC Portable MSI Thin GF63 12UCX 682XFR / i5-12450H / RTX 2050 4G / 20 Go | 2 149,000 DT\n",
            "Pc Portable Gamer Lenovo LOQ 15IRH8 / i5-12450H / RTX 2050 4G / 8 Go / Windows 11 / Gris / Avec Souris RVB Lenovo LOQ M100 | 2 149,000 DT\n",
            "PC Portable MSI Thin GF63 12UCX 682XFR / i5-12450H / RTX 2050 4G / 12 Go / Windows 11 Pro | 2 169,000 DT\n",
            "PC Portable MSI Thin GF63 12UCX 682XFR / i5-12450H / RTX 2050 4G / 24 Go | 2 175,000 DT\n",
            "Pc Portable Gamer ASUS Vivobook 16X S3605ZF / i5-12500H / RTX 2050 4G / 8 Go / 512 Go / Windows 11 / Noir | 2 185,000 DT\n",
            "PC Portable MSI Thin GF63 12UCX-682XFR / i5-12450H / RTX 2050 4G / 16 Go  + Sac à dos G34 Offert | 2 189,000 DT\n",
            "PC Portable ASUS TUF Gaming A15 FA506NF / Ryzen 5 7535HS / RTX 2050 4G / 16 Go / Windows 11 / Noir | 2 195,000 DT\n",
            "PC Portable MSI Thin GF63 12UCX / i5-12450H / RTX 2050 4G / 16 Go / Windows 11 Pro | 2 199,000 DT\n",
            "PC Portable MSI Thin GF63 12UCX / i5-12450H / RTX 2050 4G / 8 Go  + Sac à dos G34 Offert / Windows 11 Pro | 2 209,000 DT\n",
            "\n",
            "Scraped 24 gaming laptops and saved to CSV.\n"
          ]
        }
      ]
    }
  ]
}